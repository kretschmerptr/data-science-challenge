{
 "cells": [
  {
   "cell_type": "markdown",
   "metadata": {},
   "source": [
    "# Data Science Challenge - Part 1: Stock Market Data <br> (by Peter Kretschmer)"
   ]
  },
  {
   "cell_type": "markdown",
   "metadata": {},
   "source": [
    "The notebook is structured as follows:\n",
    "1. Exploratory Data Analysis\n",
    "2. Preprocessing of data\n",
    "3. Solutions to the questions"
   ]
  },
  {
   "cell_type": "markdown",
   "metadata": {},
   "source": [
    "## 1. Exploratory Data Analysis"
   ]
  },
  {
   "cell_type": "markdown",
   "metadata": {},
   "source": [
    "First, let's  import the packages needed and load in the data."
   ]
  },
  {
   "cell_type": "code",
   "execution_count": 1,
   "metadata": {},
   "outputs": [],
   "source": [
    "import pandas as pd\n",
    "import numpy as np\n",
    "import os\n",
    "import matplotlib.pyplot as plt\n",
    "%matplotlib inline  "
   ]
  },
  {
   "cell_type": "code",
   "execution_count": 2,
   "metadata": {},
   "outputs": [],
   "source": [
    "file_name = 'returns_20181228.csv'"
   ]
  },
  {
   "cell_type": "code",
   "execution_count": 3,
   "metadata": {},
   "outputs": [],
   "source": [
    "file_path = os.path.abspath(file_name)"
   ]
  },
  {
   "cell_type": "code",
   "execution_count": 4,
   "metadata": {},
   "outputs": [],
   "source": [
    "df = pd.read_csv(file_path)"
   ]
  },
  {
   "cell_type": "markdown",
   "metadata": {},
   "source": [
    "We continue having a first look at the data and check some key properties."
   ]
  },
  {
   "cell_type": "code",
   "execution_count": 5,
   "metadata": {},
   "outputs": [
    {
     "data": {
      "text/html": [
       "<div>\n",
       "<style scoped>\n",
       "    .dataframe tbody tr th:only-of-type {\n",
       "        vertical-align: middle;\n",
       "    }\n",
       "\n",
       "    .dataframe tbody tr th {\n",
       "        vertical-align: top;\n",
       "    }\n",
       "\n",
       "    .dataframe thead th {\n",
       "        text-align: right;\n",
       "    }\n",
       "</style>\n",
       "<table border=\"1\" class=\"dataframe\">\n",
       "  <thead>\n",
       "    <tr style=\"text-align: right;\">\n",
       "      <th></th>\n",
       "      <th>Date</th>\n",
       "      <th>stock_0</th>\n",
       "      <th>stock_1</th>\n",
       "      <th>stock_2</th>\n",
       "      <th>stock_3</th>\n",
       "      <th>stock_4</th>\n",
       "      <th>stock_5</th>\n",
       "      <th>stock_6</th>\n",
       "      <th>stock_7</th>\n",
       "      <th>stock_8</th>\n",
       "      <th>...</th>\n",
       "      <th>stock_1131</th>\n",
       "      <th>stock_1132</th>\n",
       "      <th>stock_1133</th>\n",
       "      <th>stock_1134</th>\n",
       "      <th>stock_1135</th>\n",
       "      <th>stock_1136</th>\n",
       "      <th>stock_1137</th>\n",
       "      <th>stock_1138</th>\n",
       "      <th>stock_1139</th>\n",
       "      <th>stock_1140</th>\n",
       "    </tr>\n",
       "  </thead>\n",
       "  <tbody>\n",
       "    <tr>\n",
       "      <th>0</th>\n",
       "      <td>1990-01-03</td>\n",
       "      <td>-0.561639</td>\n",
       "      <td>0.113423</td>\n",
       "      <td>-1.580584</td>\n",
       "      <td>-0.017527</td>\n",
       "      <td>1.055723</td>\n",
       "      <td>1.306785</td>\n",
       "      <td>-0.692687</td>\n",
       "      <td>1.303057</td>\n",
       "      <td>-0.243042</td>\n",
       "      <td>...</td>\n",
       "      <td>1.410213</td>\n",
       "      <td>-0.307705</td>\n",
       "      <td>0.829215</td>\n",
       "      <td>-0.505364</td>\n",
       "      <td>0.232976</td>\n",
       "      <td>-0.393465</td>\n",
       "      <td>-0.471561</td>\n",
       "      <td>-0.308961</td>\n",
       "      <td>-0.202832</td>\n",
       "      <td>-0.205398</td>\n",
       "    </tr>\n",
       "    <tr>\n",
       "      <th>1</th>\n",
       "      <td>1990-01-04</td>\n",
       "      <td>-1.841947</td>\n",
       "      <td>0.463435</td>\n",
       "      <td>-1.172764</td>\n",
       "      <td>0.513875</td>\n",
       "      <td>2.470817</td>\n",
       "      <td>0.463057</td>\n",
       "      <td>0.427191</td>\n",
       "      <td>-0.737959</td>\n",
       "      <td>1.455408</td>\n",
       "      <td>...</td>\n",
       "      <td>-0.656517</td>\n",
       "      <td>-1.327001</td>\n",
       "      <td>0.770307</td>\n",
       "      <td>0.485192</td>\n",
       "      <td>-0.199085</td>\n",
       "      <td>-0.590958</td>\n",
       "      <td>-0.513262</td>\n",
       "      <td>0.369685</td>\n",
       "      <td>-0.549467</td>\n",
       "      <td>0.279644</td>\n",
       "    </tr>\n",
       "    <tr>\n",
       "      <th>2</th>\n",
       "      <td>1990-01-05</td>\n",
       "      <td>-0.277859</td>\n",
       "      <td>0.216396</td>\n",
       "      <td>-0.429848</td>\n",
       "      <td>0.802112</td>\n",
       "      <td>2.686740</td>\n",
       "      <td>0.059472</td>\n",
       "      <td>-0.895917</td>\n",
       "      <td>-0.785620</td>\n",
       "      <td>0.022776</td>\n",
       "      <td>...</td>\n",
       "      <td>0.098997</td>\n",
       "      <td>0.197211</td>\n",
       "      <td>-2.003799</td>\n",
       "      <td>2.101860</td>\n",
       "      <td>0.442342</td>\n",
       "      <td>-0.677487</td>\n",
       "      <td>-0.955708</td>\n",
       "      <td>0.926602</td>\n",
       "      <td>-0.762952</td>\n",
       "      <td>2.046626</td>\n",
       "    </tr>\n",
       "    <tr>\n",
       "      <th>3</th>\n",
       "      <td>1990-01-08</td>\n",
       "      <td>-0.881483</td>\n",
       "      <td>1.867996</td>\n",
       "      <td>-1.659936</td>\n",
       "      <td>0.313561</td>\n",
       "      <td>0.868181</td>\n",
       "      <td>-1.923021</td>\n",
       "      <td>-1.788387</td>\n",
       "      <td>2.902709</td>\n",
       "      <td>0.600026</td>\n",
       "      <td>...</td>\n",
       "      <td>-0.366244</td>\n",
       "      <td>0.480905</td>\n",
       "      <td>-0.780784</td>\n",
       "      <td>-0.131875</td>\n",
       "      <td>-0.657870</td>\n",
       "      <td>-1.526045</td>\n",
       "      <td>-0.140225</td>\n",
       "      <td>1.410707</td>\n",
       "      <td>0.168989</td>\n",
       "      <td>0.787590</td>\n",
       "    </tr>\n",
       "    <tr>\n",
       "      <th>4</th>\n",
       "      <td>1990-01-09</td>\n",
       "      <td>-0.534578</td>\n",
       "      <td>0.413210</td>\n",
       "      <td>0.004407</td>\n",
       "      <td>1.223128</td>\n",
       "      <td>0.972728</td>\n",
       "      <td>1.420754</td>\n",
       "      <td>1.864039</td>\n",
       "      <td>1.564482</td>\n",
       "      <td>0.243046</td>\n",
       "      <td>...</td>\n",
       "      <td>1.469816</td>\n",
       "      <td>0.017081</td>\n",
       "      <td>-1.603788</td>\n",
       "      <td>-2.895389</td>\n",
       "      <td>0.540079</td>\n",
       "      <td>-1.126372</td>\n",
       "      <td>-1.737689</td>\n",
       "      <td>1.036790</td>\n",
       "      <td>1.243899</td>\n",
       "      <td>0.069950</td>\n",
       "    </tr>\n",
       "  </tbody>\n",
       "</table>\n",
       "<p>5 rows × 1141 columns</p>\n",
       "</div>"
      ],
      "text/plain": [
       "         Date   stock_0   stock_1   stock_2   stock_3   stock_4   stock_5  \\\n",
       "0  1990-01-03 -0.561639  0.113423 -1.580584 -0.017527  1.055723  1.306785   \n",
       "1  1990-01-04 -1.841947  0.463435 -1.172764  0.513875  2.470817  0.463057   \n",
       "2  1990-01-05 -0.277859  0.216396 -0.429848  0.802112  2.686740  0.059472   \n",
       "3  1990-01-08 -0.881483  1.867996 -1.659936  0.313561  0.868181 -1.923021   \n",
       "4  1990-01-09 -0.534578  0.413210  0.004407  1.223128  0.972728  1.420754   \n",
       "\n",
       "    stock_6   stock_7   stock_8  ...  stock_1131  stock_1132  stock_1133  \\\n",
       "0 -0.692687  1.303057 -0.243042  ...    1.410213   -0.307705    0.829215   \n",
       "1  0.427191 -0.737959  1.455408  ...   -0.656517   -1.327001    0.770307   \n",
       "2 -0.895917 -0.785620  0.022776  ...    0.098997    0.197211   -2.003799   \n",
       "3 -1.788387  2.902709  0.600026  ...   -0.366244    0.480905   -0.780784   \n",
       "4  1.864039  1.564482  0.243046  ...    1.469816    0.017081   -1.603788   \n",
       "\n",
       "   stock_1134  stock_1135  stock_1136  stock_1137  stock_1138  stock_1139  \\\n",
       "0   -0.505364    0.232976   -0.393465   -0.471561   -0.308961   -0.202832   \n",
       "1    0.485192   -0.199085   -0.590958   -0.513262    0.369685   -0.549467   \n",
       "2    2.101860    0.442342   -0.677487   -0.955708    0.926602   -0.762952   \n",
       "3   -0.131875   -0.657870   -1.526045   -0.140225    1.410707    0.168989   \n",
       "4   -2.895389    0.540079   -1.126372   -1.737689    1.036790    1.243899   \n",
       "\n",
       "   stock_1140  \n",
       "0   -0.205398  \n",
       "1    0.279644  \n",
       "2    2.046626  \n",
       "3    0.787590  \n",
       "4    0.069950  \n",
       "\n",
       "[5 rows x 1141 columns]"
      ]
     },
     "execution_count": 5,
     "metadata": {},
     "output_type": "execute_result"
    }
   ],
   "source": [
    "df.head(5)"
   ]
  },
  {
   "cell_type": "code",
   "execution_count": 6,
   "metadata": {},
   "outputs": [
    {
     "name": "stdout",
     "output_type": "stream",
     "text": [
      "Number of rows: 998 \n",
      "Number of columns: 1141\n"
     ]
    }
   ],
   "source": [
    "print('Number of rows: {} \\nNumber of columns: {}'.format(df.shape[0],df.shape[1]))"
   ]
  },
  {
   "cell_type": "markdown",
   "metadata": {},
   "source": [
    "This might be a bit confusing at first glance as we have one Date column and stocks beginning from 0 up to 1140. So there should be 1141 stocks, i.e. 1142 columns. A short re-check with the data yields that there is no 'stock_1000'. So everything is fine, we just have to keep that in mind."
   ]
  },
  {
   "cell_type": "code",
   "execution_count": 7,
   "metadata": {},
   "outputs": [
    {
     "data": {
      "text/plain": [
       "float64    1140\n",
       "object        1\n",
       "dtype: int64"
      ]
     },
     "execution_count": 7,
     "metadata": {},
     "output_type": "execute_result"
    }
   ],
   "source": [
    "df.get_dtype_counts() "
   ]
  },
  {
   "cell_type": "markdown",
   "metadata": {},
   "source": [
    "The dtypes look fine."
   ]
  },
  {
   "cell_type": "markdown",
   "metadata": {},
   "source": [
    "As we have time series data we should make clear that the data is ordered by Date."
   ]
  },
  {
   "cell_type": "code",
   "execution_count": 8,
   "metadata": {},
   "outputs": [],
   "source": [
    "df.sort_values(by='Date',inplace=True)"
   ]
  },
  {
   "cell_type": "markdown",
   "metadata": {},
   "source": [
    "To get a better understanding of the data, we just want to look at one visualization here."
   ]
  },
  {
   "cell_type": "code",
   "execution_count": 9,
   "metadata": {},
   "outputs": [
    {
     "data": {
      "text/plain": [
       "<matplotlib.axes._subplots.AxesSubplot at 0x1f72b827080>"
      ]
     },
     "execution_count": 9,
     "metadata": {},
     "output_type": "execute_result"
    },
    {
     "data": {
      "image/png": "[encoded data removed]",
      "text/plain": [
       "<Figure size 432x288 with 1 Axes>"
      ]
     },
     "metadata": {
      "needs_background": "light"
     },
     "output_type": "display_data"
    }
   ],
   "source": [
    "df['stock_1'].plot()"
   ]
  },
  {
   "cell_type": "markdown",
   "metadata": {},
   "source": [
    "Next, let's check if there are some NA values."
   ]
  },
  {
   "cell_type": "code",
   "execution_count": 10,
   "metadata": {},
   "outputs": [
    {
     "data": {
      "text/plain": [
       "True"
      ]
     },
     "execution_count": 10,
     "metadata": {},
     "output_type": "execute_result"
    }
   ],
   "source": [
    "df.isna().any().any()"
   ]
  },
  {
   "cell_type": "markdown",
   "metadata": {},
   "source": [
    "There are some. We keep that in mind and handle them in the preprocessing part."
   ]
  },
  {
   "cell_type": "markdown",
   "metadata": {},
   "source": [
    "Moreover, let's also see how many zeros there are in the different columns. Therefore we define a dataframe which gives as exactly this."
   ]
  },
  {
   "cell_type": "code",
   "execution_count": 11,
   "metadata": {},
   "outputs": [],
   "source": [
    "df_zero = pd.DataFrame({'Zero_count':(df == 0).astype(int).sum(axis=0).sort_values(ascending=False)})"
   ]
  },
  {
   "cell_type": "code",
   "execution_count": 12,
   "metadata": {},
   "outputs": [],
   "source": [
    "df_zero = df_zero.reset_index()"
   ]
  },
  {
   "cell_type": "code",
   "execution_count": 13,
   "metadata": {
    "scrolled": true
   },
   "outputs": [
    {
     "data": {
      "text/plain": [
       "array([982, 977, 959, 937, 934, 931, 927, 920, 911, 895, 894, 886, 861,\n",
       "       853, 848, 834, 823, 814, 813, 806, 806, 805, 784, 783, 744, 743,\n",
       "       743, 716, 695, 693, 684, 668, 646, 644, 640, 637, 622, 588, 584,\n",
       "       560, 557, 546, 536, 520, 518, 510, 510, 505, 503, 503, 503, 498,\n",
       "       497, 495, 486, 474, 474, 472, 462, 461, 450, 441, 436, 430, 422,\n",
       "       419, 408, 400, 398, 395, 390, 386, 374, 356, 344, 339, 329, 305,\n",
       "       291, 283, 272, 265, 265, 264, 257, 256, 246, 241, 220, 207, 198,\n",
       "       180, 173, 171, 166, 155, 152, 148, 141, 126, 122, 121,  85,  81,\n",
       "        64,  54,  29,  23,  16,   7,   0,   0,   0,   0,   0,   0,   0,\n",
       "         0,   0,   0,   0,   0,   0,   0,   0,   0,   0,   0,   0,   0,\n",
       "         0,   0,   0,   0,   0,   0,   0,   0,   0,   0,   0,   0,   0,\n",
       "         0,   0,   0,   0,   0,   0,   0], dtype=int64)"
      ]
     },
     "execution_count": 13,
     "metadata": {},
     "output_type": "execute_result"
    }
   ],
   "source": [
    "df_zero['Zero_count'].values[:150]"
   ]
  },
  {
   "cell_type": "markdown",
   "metadata": {},
   "source": [
    "Obviously, there are several columns with a lot of zero values. As there are in total just 998 Dates, some of those columns nearly fully consist of zero values. So how should we deal with them? "
   ]
  },
  {
   "cell_type": "markdown",
   "metadata": {},
   "source": [
    "After re-checking with the data, we see that these columns have non-zero returns up to some Date and then fully consist of zero returns. That look's like an imputation of missing values. Basically, we have two options now:\n",
    "1. Transform zeros to NA to indicate missing values and only consider stock columns without any NA (or zero) for Question 1.\n",
    "2. Only consider the stock returns up to the beginning of the zero sequences."
   ]
  },
  {
   "cell_type": "markdown",
   "metadata": {},
   "source": [
    "We will decide for option 1, as of time reasons we will not consider all possible stocks (of course one could) and using option 2 some of the stock return sequences might not be sufficiently long to detect the changepoint. Therefore we do the following: First, we define a list that will give us all stock columns without any zero value."
   ]
  },
  {
   "cell_type": "code",
   "execution_count": 14,
   "metadata": {},
   "outputs": [],
   "source": [
    "stock_names = list(df_zero[df_zero['Zero_count'] == 0]['index'])"
   ]
  },
  {
   "cell_type": "code",
   "execution_count": 15,
   "metadata": {},
   "outputs": [],
   "source": [
    "stock_names.remove('Date')   # we only want the stock columns"
   ]
  },
  {
   "cell_type": "code",
   "execution_count": 16,
   "metadata": {},
   "outputs": [
    {
     "data": {
      "text/plain": [
       "1030"
      ]
     },
     "execution_count": 16,
     "metadata": {},
     "output_type": "execute_result"
    }
   ],
   "source": [
    "len(stock_names)"
   ]
  },
  {
   "cell_type": "markdown",
   "metadata": {},
   "source": [
    "So, 1030 out of 1140 possible columns stock do not contain any zero return. Next, we still have to transform the zeros to NA."
   ]
  },
  {
   "cell_type": "code",
   "execution_count": 17,
   "metadata": {},
   "outputs": [],
   "source": [
    "df.replace(0,np.nan,inplace=True)"
   ]
  },
  {
   "cell_type": "markdown",
   "metadata": {},
   "source": [
    "In a last step, we should see if there are some unreasonable return values."
   ]
  },
  {
   "cell_type": "code",
   "execution_count": 18,
   "metadata": {},
   "outputs": [
    {
     "name": "stdout",
     "output_type": "stream",
     "text": [
      "Maximum daily return: 18.8587342496\n"
     ]
    }
   ],
   "source": [
    "print('Maximum daily return: {}'.format(df.iloc[:,1:].max().max()))"
   ]
  },
  {
   "cell_type": "code",
   "execution_count": 19,
   "metadata": {},
   "outputs": [
    {
     "name": "stdout",
     "output_type": "stream",
     "text": [
      "Minimum daily return: -7.69175034152\n"
     ]
    }
   ],
   "source": [
    "print('Minimum daily return: {}'.format(df.iloc[:,1:].min().min()))"
   ]
  },
  {
   "cell_type": "markdown",
   "metadata": {},
   "source": [
    "Those values seem reasonable. We are done with the EDA!"
   ]
  },
  {
   "cell_type": "markdown",
   "metadata": {},
   "source": [
    "## 2. Preprocessing of data"
   ]
  },
  {
   "cell_type": "markdown",
   "metadata": {},
   "source": [
    "First, we will define the row indices as a dataframe column as this will be useful later on."
   ]
  },
  {
   "cell_type": "code",
   "execution_count": 20,
   "metadata": {},
   "outputs": [],
   "source": [
    "df = df.reset_index()"
   ]
  },
  {
   "cell_type": "markdown",
   "metadata": {},
   "source": [
    "Next, we will add a new column to the dataframe giving us the year-month information."
   ]
  },
  {
   "cell_type": "code",
   "execution_count": 21,
   "metadata": {},
   "outputs": [],
   "source": [
    "df['Year_Month'] = df['Date'].apply(lambda x: x[:7])"
   ]
  },
  {
   "cell_type": "markdown",
   "metadata": {},
   "source": [
    "As we have seen there are NA's in the data and we remind that we imputed zeros by NA, so let's continue and check some more NA properties. Moreover, we will adjust the list stock_names giving us the stock columns without any NA."
   ]
  },
  {
   "cell_type": "code",
   "execution_count": 22,
   "metadata": {},
   "outputs": [],
   "source": [
    "col_na = df.columns[df.isna().any()].tolist()"
   ]
  },
  {
   "cell_type": "code",
   "execution_count": 23,
   "metadata": {},
   "outputs": [
    {
     "name": "stdout",
     "output_type": "stream",
     "text": [
      "There are 192 columns with NA values.\n"
     ]
    }
   ],
   "source": [
    "print('There are {} columns with NA values.'.format(len(col_na)))"
   ]
  },
  {
   "cell_type": "code",
   "execution_count": 24,
   "metadata": {},
   "outputs": [],
   "source": [
    "stock_names = list(set(stock_names) - set(col_na))"
   ]
  },
  {
   "cell_type": "code",
   "execution_count": 25,
   "metadata": {},
   "outputs": [
    {
     "data": {
      "text/plain": [
       "948"
      ]
     },
     "execution_count": 25,
     "metadata": {},
     "output_type": "execute_result"
    }
   ],
   "source": [
    "len(stock_names)"
   ]
  },
  {
   "cell_type": "markdown",
   "metadata": {},
   "source": [
    "Hence, there were 1030 - 948 = 82 additional stock columns with NA's. So for Question 1 we have a pool of 948 possible stocks to detect the changepoint."
   ]
  },
  {
   "cell_type": "markdown",
   "metadata": {},
   "source": [
    "## 3. Solutions to the questions"
   ]
  },
  {
   "cell_type": "markdown",
   "metadata": {},
   "source": [
    "**Q1: Change point analysis**"
   ]
  },
  {
   "cell_type": "markdown",
   "metadata": {},
   "source": [
    "To detect the changepoint month at which the returns shift from momentum to mean-reversion (as we will see soon), we will use two methods and see that they lead to the same result:\n",
    "1. Statistical approach based one 1-day autocorrelations\n",
    "2. Naive method"
   ]
  },
  {
   "cell_type": "markdown",
   "metadata": {},
   "source": [
    "**Method 1: Changepoint detection based on 1-day autocorrelations**"
   ]
  },
  {
   "cell_type": "markdown",
   "metadata": {},
   "source": [
    "Basically, we will use the following approach to detect the changepoint. Assume e.g. that we only consider 'stock_0'. Then, for all possible dates (we will increase it sequentially beginning with the start date) we will decompose the returns of stock_0 into 2 subsequences: the returns before the possible changepoint date and after. We will caluclate for both of these sequences 1-day lagged autocorrelations. For the right changepoint date, we expect the absolute difference between the autocorrelations of these two sequences to be maximal as the period of momentum should have a positive and the period of mean-reversion a negatvie 1-day lagged autocorrelation. Hence, we will use this as the criterion to detect the changepoint."
   ]
  },
  {
   "cell_type": "markdown",
   "metadata": {},
   "source": [
    "Therefore, we will define some functions which will do the computations needed."
   ]
  },
  {
   "cell_type": "code",
   "execution_count": 26,
   "metadata": {},
   "outputs": [],
   "source": [
    "def compute_corr(data,lag):\n",
    "    '''Auxiliary function of detect_cp:\n",
    "    Function to compute autocorrelation with specified lag (in days).'''\n",
    "    data_mean = np.mean(data)\n",
    "    post_data = data[lag:]\n",
    "    pre_data = data[:(len(data) - lag)]\n",
    "    if (np.sum((data - data_mean) ** 2) == 0):\n",
    "        corr = 0 # Divided by zero\n",
    "    else:\n",
    "        corr = np.sum((post_data - data_mean)*(pre_data - data_mean)) / (np.sum((data - data_mean) ** 2))\n",
    "    return(corr)"
   ]
  },
  {
   "cell_type": "code",
   "execution_count": 27,
   "metadata": {},
   "outputs": [],
   "source": [
    "def max_dist_autocorr(np_corr_back,np_corr_for):\n",
    "    '''Auxiliary function of detect_cp:\n",
    "    Function to compute the maximum distance between the autocorrelations of the two periods, i.e. before and\n",
    "    after the possible changepoint'''\n",
    "    np_corr_back[:50] = 0         # set beginning to zero, as the estimator for the correlation is not stable enough here\n",
    "    np_corr_for[(-50):] = 0       # same for end\n",
    "    cp = np.argmax(np.abs(np_corr_back - np_corr_for))\n",
    "    return cp"
   ]
  },
  {
   "cell_type": "code",
   "execution_count": 28,
   "metadata": {},
   "outputs": [],
   "source": [
    "def detect_cp(returns,lag):\n",
    "    '''Function to detect changepoint.\n",
    "    \n",
    "    Input:\n",
    "    =======\n",
    "    returns: np.array\n",
    "             Stock returns of one stock\n",
    "    lag:     int\n",
    "             Lag to use, i.e. 1 for daily autocorrelations\n",
    "    \n",
    "    Returns:\n",
    "    =======\n",
    "    cp:             int\n",
    "                    Timestep (not Date!) of changepoint\n",
    "    corr_list_back: np.array\n",
    "                    Autocorrelations of period before (possible) changepoint\n",
    "    corr_list_for:  np.array\n",
    "                    Autocorrelations of period after (possible) changepoint\n",
    "    \n",
    "    \n",
    "    '''\n",
    "    np_corr_back = np.array([])\n",
    "    np_corr_for = np.array([])\n",
    "    \n",
    "    for i in range(lag + 1,len(returns) - 1):\n",
    "        data = returns[:i]\n",
    "        corr_back = compute_corr(returns[:i],lag)\n",
    "        corr_for = compute_corr(returns[i:],lag)\n",
    "        np_corr_back = np.append(np_corr_back,corr_back)\n",
    "        np_corr_for = np.append(np_corr_for,corr_for)\n",
    "        \n",
    "    cp = max_dist_autocorr(np_corr_back, np_corr_for)\n",
    "    \n",
    "    return cp, np_corr_back, np_corr_for"
   ]
  },
  {
   "cell_type": "markdown",
   "metadata": {},
   "source": [
    "To better see how we want to detect the changepoint, we look at one example here."
   ]
  },
  {
   "cell_type": "code",
   "execution_count": 29,
   "metadata": {},
   "outputs": [],
   "source": [
    "lag = 1  # daily autocorrelations"
   ]
  },
  {
   "cell_type": "code",
   "execution_count": 30,
   "metadata": {},
   "outputs": [],
   "source": [
    "ex_cp, ex_autocorr_back, ex_autocorr_for = detect_cp(df['stock_0'].values,lag)"
   ]
  },
  {
   "cell_type": "code",
   "execution_count": 31,
   "metadata": {},
   "outputs": [
    {
     "data": {
      "image/png": "[encoded data removed]",
      "text/plain": [
       "<Figure size 432x288 with 1 Axes>"
      ]
     },
     "metadata": {
      "needs_background": "light"
     },
     "output_type": "display_data"
    }
   ],
   "source": [
    "plt.figure()\n",
    "plt.plot(ex_autocorr_back,'r',label='Before changepoint')\n",
    "plt.plot(ex_autocorr_for,'b',label='After changepoint')\n",
    "plt.grid()\n",
    "plt.xlabel('Time step')\n",
    "plt.ylabel('Autocorrelation')\n",
    "plt.legend()\n",
    "plt.show()"
   ]
  },
  {
   "cell_type": "markdown",
   "metadata": {},
   "source": [
    "So from this we would expect the changepoint to be roughly at time step 600. Since at this timepoint, the autocorrelation of the sequence before the changepoint is positive and of the sequence after the changepoint is negative, we expect the stock returns to change from momentum to mean-reversion."
   ]
  },
  {
   "cell_type": "markdown",
   "metadata": {},
   "source": [
    "Now, we will return to the general setting."
   ]
  },
  {
   "cell_type": "markdown",
   "metadata": {},
   "source": [
    "From the set of possible stocks 'stock_names' we randomly choose a subset of 'num_stocks_to_use' stocks to do the calculation with. We set it here equal to 100. Depending on time and ressources one can of course also use to whole set of usable stocks. Moreover, we will set the seed to get repeatable results."
   ]
  },
  {
   "cell_type": "code",
   "execution_count": 32,
   "metadata": {},
   "outputs": [],
   "source": [
    "num_stocks_to_use = 100"
   ]
  },
  {
   "cell_type": "code",
   "execution_count": 33,
   "metadata": {},
   "outputs": [],
   "source": [
    "np.random.seed(42)\n",
    "rand_cols = np.random.choice(stock_names,num_stocks_to_use)"
   ]
  },
  {
   "cell_type": "code",
   "execution_count": 34,
   "metadata": {},
   "outputs": [],
   "source": [
    "np_cp = np.array([])\n",
    "np_autocorr_back = np.array([])\n",
    "np_autocorr_for = np.array([])"
   ]
  },
  {
   "cell_type": "code",
   "execution_count": 35,
   "metadata": {},
   "outputs": [],
   "source": [
    "for i in range(num_stocks_to_use):\n",
    "    returns = df[rand_cols[i]].values\n",
    "    cp, autocorr_back, autocorr_for = detect_cp(returns,lag)\n",
    "    np_cp = np.append(np_cp, cp)\n",
    "    np_autocorr_back = np.append(np_autocorr_back, autocorr_back[cp])\n",
    "    np_autocorr_for = np.append(np_autocorr_for, autocorr_for[cp])"
   ]
  },
  {
   "cell_type": "markdown",
   "metadata": {},
   "source": [
    "We will then use the array 'np_cp' to find the year-month combination with the most changepoints. This will then be our changepoint month."
   ]
  },
  {
   "cell_type": "code",
   "execution_count": 36,
   "metadata": {},
   "outputs": [],
   "source": [
    "def get_cp_date(cp_list):\n",
    "    '''Function to calculate the number of changepoints corresponding to year-month combination'''\n",
    "    cp_unique, cp_unique_counts = np.unique(cp_list,return_counts = True)\n",
    "    df_cp = pd.DataFrame({'index':cp_unique,'CP_count':cp_unique_counts})\n",
    "    df_cp = df_cp.merge(df[['Year_Month','index']],how='left',on='index')\n",
    "    df_cp = df_cp.groupby('Year_Month')['CP_count'].sum()\n",
    "    return df_cp"
   ]
  },
  {
   "cell_type": "code",
   "execution_count": 37,
   "metadata": {},
   "outputs": [],
   "source": [
    "df_cp = get_cp_date(np_cp)"
   ]
  },
  {
   "cell_type": "code",
   "execution_count": 38,
   "metadata": {},
   "outputs": [
    {
     "name": "stdout",
     "output_type": "stream",
     "text": [
      "Year_Month\n",
      "1992-04    61\n",
      "1992-05     8\n",
      "1993-08     6\n",
      "1990-03     5\n",
      "1992-03     4\n",
      "Name: CP_count, dtype: int64\n"
     ]
    }
   ],
   "source": [
    "print(df_cp.sort_values(ascending=False)[:5])"
   ]
  },
  {
   "cell_type": "markdown",
   "metadata": {},
   "source": [
    "The result would even get clearer, if we would increase 'num_stock_to_use'. Hence, we get:"
   ]
  },
  {
   "cell_type": "code",
   "execution_count": 39,
   "metadata": {},
   "outputs": [],
   "source": [
    "cp_date = df_cp.idxmax(axis=1)"
   ]
  },
  {
   "cell_type": "code",
   "execution_count": 40,
   "metadata": {},
   "outputs": [
    {
     "name": "stdout",
     "output_type": "stream",
     "text": [
      "By method 1, the changepoint date is 1992-04.\n"
     ]
    }
   ],
   "source": [
    "print('By method 1, the changepoint date is {}.'.format(cp_date))"
   ]
  },
  {
   "cell_type": "markdown",
   "metadata": {},
   "source": [
    "Lastly, we have to see whether at this date the stocks change from momentum to mean-reversion or the other way around."
   ]
  },
  {
   "cell_type": "code",
   "execution_count": 41,
   "metadata": {},
   "outputs": [],
   "source": [
    "def hist_autocorr(np_autocorr_back, np_autocorr_for):\n",
    "    plt.figure()\n",
    "    plt.subplot(121)\n",
    "    plt.hist(np_autocorr_back)\n",
    "    plt.grid()\n",
    "    plt.xlabel('1-day autocorr.')\n",
    "    plt.title('Before changepoint')\n",
    "    plt.subplot(122)\n",
    "    plt.hist(np_autocorr_for)\n",
    "    plt.grid()\n",
    "    plt.xlabel('1-day autocorr.')\n",
    "    plt.title('After changepoint')\n",
    "    plt.show()"
   ]
  },
  {
   "cell_type": "code",
   "execution_count": 42,
   "metadata": {},
   "outputs": [
    {
     "data": {
      "image/png": "[encoded data removed]",
      "text/plain": [
       "<Figure size 432x288 with 2 Axes>"
      ]
     },
     "metadata": {
      "needs_background": "light"
     },
     "output_type": "display_data"
    }
   ],
   "source": [
    "hist_autocorr(np_autocorr_back, np_autocorr_for)"
   ]
  },
  {
   "cell_type": "markdown",
   "metadata": {},
   "source": [
    "As we can see, on average, the stocks change from a positive 1-day autocorrelation to a negative at the changepoint. Hence, the stocks change from momentum to mean-reversion"
   ]
  },
  {
   "cell_type": "markdown",
   "metadata": {},
   "source": [
    "**Method 2: Naive method**"
   ]
  },
  {
   "cell_type": "markdown",
   "metadata": {},
   "source": [
    "We also want to shortly look at another, rather naive, way to detect the changepoint. We will define a function that will show us whether returns of two following days have the same sign. If yes, indicating momentum. If not, indicating mean-reversion."
   ]
  },
  {
   "cell_type": "code",
   "execution_count": 43,
   "metadata": {},
   "outputs": [],
   "source": [
    "def naive_cp(price,lag):\n",
    "    '''Function to see if lagged stock returns tend to have similiar signs or not (over time)'''\n",
    "    indicator = np.array([])\n",
    "    t = lag\n",
    "    while t < len(price):\n",
    "        if np.sign(price[t]) == np.sign(price[t - lag]):   # Same return sign: add 1\n",
    "            if len(indicator) == 0:\n",
    "                val = 1\n",
    "            else:\n",
    "                val = indicator[-1] + 1\n",
    "            indicator = np.append(indicator,val)\n",
    "        else:                                              # Different return sign: substract 1\n",
    "            if len(indicator) == 0:\n",
    "                val = -1\n",
    "            else:\n",
    "                val = indicator[-1] - 1\n",
    "            indicator = np.append(indicator,val)\n",
    "        t += 1\n",
    "    return(indicator)"
   ]
  },
  {
   "cell_type": "markdown",
   "metadata": {},
   "source": [
    "Let's also look at a few random visualizations here."
   ]
  },
  {
   "cell_type": "code",
   "execution_count": 44,
   "metadata": {},
   "outputs": [],
   "source": [
    "np.random.seed(42)\n",
    "naive_ex = np.random.choice(stock_names,6)"
   ]
  },
  {
   "cell_type": "code",
   "execution_count": 45,
   "metadata": {},
   "outputs": [
    {
     "data": {
      "image/png": "[encoded data removed]",
      "text/plain": [
       "<Figure size 432x288 with 6 Axes>"
      ]
     },
     "metadata": {
      "needs_background": "light"
     },
     "output_type": "display_data"
    }
   ],
   "source": [
    "plt.figure()\n",
    "for i in range(6):\n",
    "    plot_idx = int('23' + str(i+1))\n",
    "    plt.subplot(plot_idx)\n",
    "    plt.plot(naive_cp(df[naive_ex[i]],lag))"
   ]
  },
  {
   "cell_type": "markdown",
   "metadata": {},
   "source": [
    "As expected there is a knick indicating the changepoint here. One could even improve and use the decomposition of the time series into two subsequences as with Method 1. We will not do that here. We just want show that even this method leads us to the desired result."
   ]
  },
  {
   "cell_type": "code",
   "execution_count": 46,
   "metadata": {},
   "outputs": [],
   "source": [
    "cp_naive_list = list()"
   ]
  },
  {
   "cell_type": "code",
   "execution_count": 47,
   "metadata": {},
   "outputs": [],
   "source": [
    "df[rand_cols].apply(lambda x: cp_naive_list.append(np.argmax(naive_cp(x,lag))));"
   ]
  },
  {
   "cell_type": "markdown",
   "metadata": {},
   "source": [
    "Again we use the same function, defined above, to get the changepoint month."
   ]
  },
  {
   "cell_type": "code",
   "execution_count": 48,
   "metadata": {},
   "outputs": [],
   "source": [
    "df_cp_naive = get_cp_date(cp_naive_list)"
   ]
  },
  {
   "cell_type": "code",
   "execution_count": 49,
   "metadata": {},
   "outputs": [
    {
     "data": {
      "text/plain": [
       "Year_Month\n",
       "1992-04    44\n",
       "1990-01    12\n",
       "1992-03     9\n",
       "1990-02     6\n",
       "1993-10     5\n",
       "Name: CP_count, dtype: int64"
      ]
     },
     "execution_count": 49,
     "metadata": {},
     "output_type": "execute_result"
    }
   ],
   "source": [
    "df_cp_naive.sort_values(ascending=False)[:5]"
   ]
  },
  {
   "cell_type": "code",
   "execution_count": 50,
   "metadata": {},
   "outputs": [],
   "source": [
    "cp_date_naive = df_cp_naive.idxmax(axis=1)"
   ]
  },
  {
   "cell_type": "code",
   "execution_count": 51,
   "metadata": {},
   "outputs": [
    {
     "name": "stdout",
     "output_type": "stream",
     "text": [
      "By Method 2, the changepoint date is 1992-04.\n"
     ]
    }
   ],
   "source": [
    "print('By Method {}, the changepoint date is {}.'.format(2,cp_date_naive))"
   ]
  },
  {
   "cell_type": "markdown",
   "metadata": {},
   "source": [
    "Nice! As we can see, the two methods lead to the same outcome."
   ]
  },
  {
   "cell_type": "markdown",
   "metadata": {},
   "source": [
    "**Q2: What is the average return in the momentum time period?**"
   ]
  },
  {
   "cell_type": "markdown",
   "metadata": {},
   "source": [
    "As we have seen, the stock returns have the momentum property before the changepoint, as one-day autocorrelations are high. The changepoint month is '1992-04'. Hence, we simply have to calculate the average stock return of all stocks in the time period from '1990-01' until '1990-03' and then get the average of those."
   ]
  },
  {
   "cell_type": "code",
   "execution_count": 52,
   "metadata": {},
   "outputs": [],
   "source": [
    "avg_mom = np.nanmean(df[df['Year_Month'] < cp_date].loc[:,'stock_0':'stock_1140'])  # neglect NA's"
   ]
  },
  {
   "cell_type": "code",
   "execution_count": 53,
   "metadata": {},
   "outputs": [
    {
     "name": "stdout",
     "output_type": "stream",
     "text": [
      "The average return in momentum period equals 0.6763762837945968\n"
     ]
    }
   ],
   "source": [
    "print('The average return in momentum period equals {}'.format(avg_mom))"
   ]
  },
  {
   "cell_type": "markdown",
   "metadata": {},
   "source": [
    "**Q3: What is the average return in the mean-reversion time period?**"
   ]
  },
  {
   "cell_type": "markdown",
   "metadata": {},
   "source": [
    "We answer the question analogue to Q2."
   ]
  },
  {
   "cell_type": "code",
   "execution_count": 54,
   "metadata": {},
   "outputs": [],
   "source": [
    "avg_mean_rev = np.nanmean(df[df['Year_Month'] >= cp_date].loc[:,'stock_0':'stock_1140'])   # neglect NA's"
   ]
  },
  {
   "cell_type": "code",
   "execution_count": 55,
   "metadata": {},
   "outputs": [
    {
     "name": "stdout",
     "output_type": "stream",
     "text": [
      "The average return in the mean-reversion period equals 0.6875428797877042\n"
     ]
    }
   ],
   "source": [
    "print('The average return in the mean-reversion period equals {}'.format(avg_mean_rev))"
   ]
  },
  {
   "cell_type": "markdown",
   "metadata": {},
   "source": [
    "Hence, the average return in the mean-reversion period is higher than the the average return in the momentum period."
   ]
  }
 ],
 "metadata": {
  "kernelspec": {
   "display_name": "Python 3",
   "language": "python",
   "name": "python3"
  },
  "language_info": {
   "codemirror_mode": {
    "name": "ipython",
    "version": 3
   },
   "file_extension": ".py",
   "mimetype": "text/x-python",
   "name": "python",
   "nbconvert_exporter": "python",
   "pygments_lexer": "ipython3",
   "version": "3.7.3"
  }
 },
 "nbformat": 4,
 "nbformat_minor": 2
}
