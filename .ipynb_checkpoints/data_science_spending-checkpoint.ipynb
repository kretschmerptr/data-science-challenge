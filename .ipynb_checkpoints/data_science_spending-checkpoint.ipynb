{
 "cells": [
  {
   "cell_type": "markdown",
   "metadata": {},
   "source": [
    "# Data Science Challenge - Part 2: State Spending <br> (by Peter Kretschmer)"
   ]
  },
  {
   "cell_type": "markdown",
   "metadata": {},
   "source": [
    "The notebook is structured as follows:\n",
    "1. Exploratory Data Analysis\n",
    "2. Data preprocessing\n",
    "3. Solutions to the questions"
   ]
  },
  {
   "cell_type": "markdown",
   "metadata": {},
   "source": [
    "## 1. Exploratory Data Analysis"
   ]
  },
  {
   "cell_type": "markdown",
   "metadata": {},
   "source": [
    "First we import packages needed later on."
   ]
  },
  {
   "cell_type": "code",
   "execution_count": 1,
   "metadata": {},
   "outputs": [],
   "source": [
    "import pandas as pd\n",
    "import numpy as np\n",
    "import re\n",
    "import os"
   ]
  },
  {
   "cell_type": "markdown",
   "metadata": {},
   "source": [
    "Next, we read in the csv file."
   ]
  },
  {
   "cell_type": "code",
   "execution_count": 2,
   "metadata": {},
   "outputs": [],
   "source": [
    "file_name ='res_purchase_2014.csv'"
   ]
  },
  {
   "cell_type": "code",
   "execution_count": 3,
   "metadata": {},
   "outputs": [],
   "source": [
    "file_path = os.path.abspath(file_name)"
   ]
  },
  {
   "cell_type": "code",
   "execution_count": 4,
   "metadata": {},
   "outputs": [],
   "source": [
    "df = pd.read_csv(file_path,dtype={'Amount':object})"
   ]
  },
  {
   "cell_type": "markdown",
   "metadata": {},
   "source": [
    "When we do not specify the dtype of column 'Amount', this will lead to a warning that the corresponding column has mixed types. This already indicates us that we should be aware of that column and might need some preprocessing."
   ]
  },
  {
   "cell_type": "markdown",
   "metadata": {},
   "source": [
    "We continue and have a first look at the data, it's shape and the column types."
   ]
  },
  {
   "cell_type": "code",
   "execution_count": 5,
   "metadata": {},
   "outputs": [
    {
     "data": {
      "text/html": [
       "<div>\n",
       "<style scoped>\n",
       "    .dataframe tbody tr th:only-of-type {\n",
       "        vertical-align: middle;\n",
       "    }\n",
       "\n",
       "    .dataframe tbody tr th {\n",
       "        vertical-align: top;\n",
       "    }\n",
       "\n",
       "    .dataframe thead th {\n",
       "        text-align: right;\n",
       "    }\n",
       "</style>\n",
       "<table border=\"1\" class=\"dataframe\">\n",
       "  <thead>\n",
       "    <tr style=\"text-align: right;\">\n",
       "      <th></th>\n",
       "      <th>Year-Month</th>\n",
       "      <th>Agency Number</th>\n",
       "      <th>Agency Name</th>\n",
       "      <th>Cardholder Last Name</th>\n",
       "      <th>Cardholder First Initial</th>\n",
       "      <th>Description</th>\n",
       "      <th>Amount</th>\n",
       "      <th>Vendor</th>\n",
       "      <th>Transaction Date</th>\n",
       "      <th>Posted Date</th>\n",
       "      <th>Merchant Category Code (MCC)</th>\n",
       "    </tr>\n",
       "  </thead>\n",
       "  <tbody>\n",
       "    <tr>\n",
       "      <th>0</th>\n",
       "      <td>201307</td>\n",
       "      <td>1000</td>\n",
       "      <td>OKLAHOMA STATE UNIVERSITY</td>\n",
       "      <td>Mason</td>\n",
       "      <td>C</td>\n",
       "      <td>GENERAL PURCHASE</td>\n",
       "      <td>890</td>\n",
       "      <td>NACAS</td>\n",
       "      <td>7/30/2013 0:00</td>\n",
       "      <td>7/31/2013 0:00</td>\n",
       "      <td>CHARITABLE AND SOCIAL SERVICE ORGANIZATIONS</td>\n",
       "    </tr>\n",
       "    <tr>\n",
       "      <th>1</th>\n",
       "      <td>201307</td>\n",
       "      <td>1000</td>\n",
       "      <td>OKLAHOMA STATE UNIVERSITY</td>\n",
       "      <td>Mason</td>\n",
       "      <td>C</td>\n",
       "      <td>ROOM CHARGES</td>\n",
       "      <td>368.96</td>\n",
       "      <td>SHERATON HOTEL</td>\n",
       "      <td>7/30/2013 0:00</td>\n",
       "      <td>7/31/2013 0:00</td>\n",
       "      <td>SHERATON</td>\n",
       "    </tr>\n",
       "    <tr>\n",
       "      <th>2</th>\n",
       "      <td>201307</td>\n",
       "      <td>1000</td>\n",
       "      <td>OKLAHOMA STATE UNIVERSITY</td>\n",
       "      <td>Massey</td>\n",
       "      <td>J</td>\n",
       "      <td>GENERAL PURCHASE</td>\n",
       "      <td>165.82</td>\n",
       "      <td>SEARS.COM 9300</td>\n",
       "      <td>7/29/2013 0:00</td>\n",
       "      <td>7/31/2013 0:00</td>\n",
       "      <td>DIRCT MARKETING/DIRCT MARKETERS--NOT ELSEWHERE...</td>\n",
       "    </tr>\n",
       "    <tr>\n",
       "      <th>3</th>\n",
       "      <td>201307</td>\n",
       "      <td>1000</td>\n",
       "      <td>OKLAHOMA STATE UNIVERSITY</td>\n",
       "      <td>Massey</td>\n",
       "      <td>T</td>\n",
       "      <td>GENERAL PURCHASE</td>\n",
       "      <td>96.39</td>\n",
       "      <td>WAL-MART #0137</td>\n",
       "      <td>7/30/2013 0:00</td>\n",
       "      <td>7/31/2013 0:00</td>\n",
       "      <td>GROCERY STORES,AND SUPERMARKETS</td>\n",
       "    </tr>\n",
       "    <tr>\n",
       "      <th>4</th>\n",
       "      <td>201307</td>\n",
       "      <td>1000</td>\n",
       "      <td>OKLAHOMA STATE UNIVERSITY</td>\n",
       "      <td>Mauro-Herrera</td>\n",
       "      <td>M</td>\n",
       "      <td>HAMMERMILL COPY PLUS COPY EA</td>\n",
       "      <td>125.96</td>\n",
       "      <td>STAPLES DIRECT</td>\n",
       "      <td>7/30/2013 0:00</td>\n",
       "      <td>7/31/2013 0:00</td>\n",
       "      <td>STATIONERY, OFFICE SUPPLIES, PRINTING AND WRIT...</td>\n",
       "    </tr>\n",
       "  </tbody>\n",
       "</table>\n",
       "</div>"
      ],
      "text/plain": [
       "   Year-Month  Agency Number                Agency Name Cardholder Last Name  \\\n",
       "0      201307           1000  OKLAHOMA STATE UNIVERSITY                Mason   \n",
       "1      201307           1000  OKLAHOMA STATE UNIVERSITY                Mason   \n",
       "2      201307           1000  OKLAHOMA STATE UNIVERSITY               Massey   \n",
       "3      201307           1000  OKLAHOMA STATE UNIVERSITY               Massey   \n",
       "4      201307           1000  OKLAHOMA STATE UNIVERSITY        Mauro-Herrera   \n",
       "\n",
       "  Cardholder First Initial                   Description  Amount  \\\n",
       "0                        C              GENERAL PURCHASE     890   \n",
       "1                        C                  ROOM CHARGES  368.96   \n",
       "2                        J              GENERAL PURCHASE  165.82   \n",
       "3                        T              GENERAL PURCHASE   96.39   \n",
       "4                        M  HAMMERMILL COPY PLUS COPY EA  125.96   \n",
       "\n",
       "           Vendor Transaction Date     Posted Date  \\\n",
       "0           NACAS   7/30/2013 0:00  7/31/2013 0:00   \n",
       "1  SHERATON HOTEL   7/30/2013 0:00  7/31/2013 0:00   \n",
       "2  SEARS.COM 9300   7/29/2013 0:00  7/31/2013 0:00   \n",
       "3  WAL-MART #0137   7/30/2013 0:00  7/31/2013 0:00   \n",
       "4  STAPLES DIRECT   7/30/2013 0:00  7/31/2013 0:00   \n",
       "\n",
       "                        Merchant Category Code (MCC)  \n",
       "0        CHARITABLE AND SOCIAL SERVICE ORGANIZATIONS  \n",
       "1                                           SHERATON  \n",
       "2  DIRCT MARKETING/DIRCT MARKETERS--NOT ELSEWHERE...  \n",
       "3                    GROCERY STORES,AND SUPERMARKETS  \n",
       "4  STATIONERY, OFFICE SUPPLIES, PRINTING AND WRIT...  "
      ]
     },
     "execution_count": 5,
     "metadata": {},
     "output_type": "execute_result"
    }
   ],
   "source": [
    "df.head(5)"
   ]
  },
  {
   "cell_type": "markdown",
   "metadata": {},
   "source": [
    "We see that the column 'Amount' should contain numerical values. We keep that in mind for the preprocessing."
   ]
  },
  {
   "cell_type": "code",
   "execution_count": 6,
   "metadata": {},
   "outputs": [
    {
     "name": "stdout",
     "output_type": "stream",
     "text": [
      "Number of rows: 442457 \n",
      "Number of columns: 11\n"
     ]
    }
   ],
   "source": [
    "print('Number of rows: {} \\nNumber of columns: {}'.format(df.shape[0],df.shape[1]))"
   ]
  },
  {
   "cell_type": "code",
   "execution_count": 7,
   "metadata": {},
   "outputs": [
    {
     "data": {
      "text/plain": [
       "Year-Month                       int64\n",
       "Agency Number                    int64\n",
       "Agency Name                     object\n",
       "Cardholder Last Name            object\n",
       "Cardholder First Initial        object\n",
       "Description                     object\n",
       "Amount                          object\n",
       "Vendor                          object\n",
       "Transaction Date                object\n",
       "Posted Date                     object\n",
       "Merchant Category Code (MCC)    object\n",
       "dtype: object"
      ]
     },
     "execution_count": 7,
     "metadata": {},
     "output_type": "execute_result"
    }
   ],
   "source": [
    "df.dtypes"
   ]
  },
  {
   "cell_type": "markdown",
   "metadata": {},
   "source": [
    "We check for NA's."
   ]
  },
  {
   "cell_type": "code",
   "execution_count": 8,
   "metadata": {},
   "outputs": [
    {
     "data": {
      "text/plain": [
       "0"
      ]
     },
     "execution_count": 8,
     "metadata": {},
     "output_type": "execute_result"
    }
   ],
   "source": [
    "df.isnull().sum().sum()"
   ]
  },
  {
   "cell_type": "markdown",
   "metadata": {},
   "source": [
    "There are none. That's nice!"
   ]
  },
  {
   "cell_type": "markdown",
   "metadata": {},
   "source": [
    "## 2. Data preprocessing"
   ]
  },
  {
   "cell_type": "markdown",
   "metadata": {},
   "source": [
    "Basically,we want to\n",
    "- preprocess column 'Amount' for Question 1\n",
    "- add 'Year' and 'Month' Column for Question 4"
   ]
  },
  {
   "cell_type": "markdown",
   "metadata": {},
   "source": [
    "So first we take a look at the amount column:"
   ]
  },
  {
   "cell_type": "code",
   "execution_count": 9,
   "metadata": {},
   "outputs": [
    {
     "data": {
      "text/plain": [
       "5          394.28\n",
       "6           19.87\n",
       "7            10.1\n",
       "8           142.6\n",
       "9        ($29.99)\n",
       "10         278.23\n",
       "11          127.8\n",
       "12       $572.27 \n",
       "13        $12.90 \n",
       "14            445\n",
       "15    452.91 zero\n",
       "16           2425\n",
       "17           2425\n",
       "18           7.63\n",
       "19          18.97\n",
       "20          729.8\n",
       "21          729.8\n",
       "22            368\n",
       "23           9.16\n",
       "24           1.68\n",
       "25            -30\n",
       "26            178\n",
       "27          27.44\n",
       "28          54.72\n",
       "29          112.8\n",
       "Name: Amount, dtype: object"
      ]
     },
     "execution_count": 9,
     "metadata": {},
     "output_type": "execute_result"
    }
   ],
   "source": [
    "df['Amount'].iloc[5:30]"
   ]
  },
  {
   "cell_type": "markdown",
   "metadata": {},
   "source": [
    "We see that the column contains several values in a wrong format including dollar signs, brackets, additional text and space characters. Moreover, there are also negative values. After having a look at the data, we decide to transform them to positive values as they capture purchases (and not paybacks for example) and should therefore be positive. Hence, we will define a regular expression to detect the floats in the string and transform the column."
   ]
  },
  {
   "cell_type": "code",
   "execution_count": 10,
   "metadata": {},
   "outputs": [],
   "source": [
    "regex_amount = re.compile(r\"[+]?\\d*\\.\\d+|\\d+\") "
   ]
  },
  {
   "cell_type": "code",
   "execution_count": 11,
   "metadata": {},
   "outputs": [],
   "source": [
    "df['Amount'] = df['Amount'].astype(str).apply(lambda x: regex_amount.search(x)[0]).astype(float)"
   ]
  },
  {
   "cell_type": "markdown",
   "metadata": {},
   "source": [
    "Re-checking the data, we see that everything looks fine now."
   ]
  },
  {
   "cell_type": "markdown",
   "metadata": {},
   "source": [
    "We now turn to preprocessing step 2. For Question 4 we have to calculate monthly spendings. Therefore, we want to introduce a new 'Year' and 'Month' column. So, lets first have a look at the corresponding values of the 'Date' column."
   ]
  },
  {
   "cell_type": "code",
   "execution_count": 12,
   "metadata": {},
   "outputs": [
    {
     "data": {
      "text/plain": [
       "array([201307, 201402, 201401, 201406, 201309, 201403, 201308, 201310,\n",
       "       201311, 201312, 201405, 201404, 201900,   -999], dtype=int64)"
      ]
     },
     "execution_count": 12,
     "metadata": {},
     "output_type": "execute_result"
    }
   ],
   "source": [
    "df['Year-Month'].unique()"
   ]
  },
  {
   "cell_type": "markdown",
   "metadata": {},
   "source": [
    "Obviously, we have information for date '201900' and '-999'. There must have been an error for those values, so we construct the Year and Month column using the column 'Posted Date' as this coincides with the 'Year-Month' column in their year-month information for all 'valid' years (not 201900 and -999). We will also re-check in a few lines that this is indeed the case."
   ]
  },
  {
   "cell_type": "markdown",
   "metadata": {},
   "source": [
    "So again we define regular expression to get the year and month column from the 'Posted Date' column."
   ]
  },
  {
   "cell_type": "code",
   "execution_count": 13,
   "metadata": {},
   "outputs": [],
   "source": [
    "regex_year = re.compile(r\"\\d{4}\")"
   ]
  },
  {
   "cell_type": "code",
   "execution_count": 14,
   "metadata": {},
   "outputs": [],
   "source": [
    "df['Year'] = df['Posted Date'].apply(lambda x: regex_year.search(x)[0]).astype(str)"
   ]
  },
  {
   "cell_type": "code",
   "execution_count": 15,
   "metadata": {},
   "outputs": [],
   "source": [
    "regex_month = re.compile(r\"\\d{1,2}\")"
   ]
  },
  {
   "cell_type": "code",
   "execution_count": 16,
   "metadata": {},
   "outputs": [],
   "source": [
    "df['Month'] = df['Posted Date'].apply(lambda x: regex_month.match(x)[0]).astype(str).apply(lambda x: x.zfill(2))"
   ]
  },
  {
   "cell_type": "markdown",
   "metadata": {},
   "source": [
    "We will quickly re-check that indeed for all the 'valid' values in the 'Year-Month' column, the year month information coincides with the information from the 'Posted Date' column."
   ]
  },
  {
   "cell_type": "code",
   "execution_count": 17,
   "metadata": {},
   "outputs": [],
   "source": [
    "valid_years = df['Year-Month'].unique()[:12]"
   ]
  },
  {
   "cell_type": "code",
   "execution_count": 18,
   "metadata": {},
   "outputs": [],
   "source": [
    "year_mask = df['Year-Month'].isin(valid_years)"
   ]
  },
  {
   "cell_type": "code",
   "execution_count": 19,
   "metadata": {},
   "outputs": [
    {
     "data": {
      "text/plain": [
       "True"
      ]
     },
     "execution_count": 19,
     "metadata": {},
     "output_type": "execute_result"
    }
   ],
   "source": [
    "all(df['Year-Month'].astype(str)[year_mask] == (df['Year'] + df['Month'])[year_mask])"
   ]
  },
  {
   "cell_type": "markdown",
   "metadata": {},
   "source": [
    "Nice, let's quickly see if we now have reasonable 'Year' and 'Month' information."
   ]
  },
  {
   "cell_type": "code",
   "execution_count": 20,
   "metadata": {},
   "outputs": [
    {
     "data": {
      "text/plain": [
       "array(['2013', '2014'], dtype=object)"
      ]
     },
     "execution_count": 20,
     "metadata": {},
     "output_type": "execute_result"
    }
   ],
   "source": [
    "df['Year'].unique()"
   ]
  },
  {
   "cell_type": "code",
   "execution_count": 21,
   "metadata": {},
   "outputs": [
    {
     "data": {
      "text/plain": [
       "array(['07', '02', '01', '06', '09', '03', '08', '10', '11', '12', '05',\n",
       "       '04'], dtype=object)"
      ]
     },
     "execution_count": 21,
     "metadata": {},
     "output_type": "execute_result"
    }
   ],
   "source": [
    "df['Month'].unique()"
   ]
  },
  {
   "cell_type": "markdown",
   "metadata": {},
   "source": [
    "That was the preprocessing needed for the questions to answer!"
   ]
  },
  {
   "cell_type": "markdown",
   "metadata": {},
   "source": [
    "## 3. Solutions to the questions"
   ]
  },
  {
   "cell_type": "markdown",
   "metadata": {},
   "source": [
    "**Q1: What is the total amount of spending captured in this dataset? **"
   ]
  },
  {
   "cell_type": "code",
   "execution_count": 22,
   "metadata": {},
   "outputs": [
    {
     "name": "stdout",
     "output_type": "stream",
     "text": [
      "The total amount of spending is 195165873.33\n"
     ]
    }
   ],
   "source": [
    "print('The total amount of spending is {}'.format(df['Amount'].sum()))"
   ]
  },
  {
   "cell_type": "markdown",
   "metadata": {},
   "source": [
    "**Q2: How much was spent at WW GRAINGER? **"
   ]
  },
  {
   "cell_type": "markdown",
   "metadata": {},
   "source": [
    "For Question 2 and 3 we want to be sure that we catch all transactions for the corresponding vendor, i.e. all branches and/or subcontractors. Hence, we define a Pandas Series that gives us all unique vendor names."
   ]
  },
  {
   "cell_type": "code",
   "execution_count": 23,
   "metadata": {},
   "outputs": [],
   "source": [
    "Vendor_unique_values = pd.Series(df['Vendor'].unique())"
   ]
  },
  {
   "cell_type": "markdown",
   "metadata": {},
   "source": [
    "We define a regular expression that will give us all vendors with 'WW GRAINGER' in the name."
   ]
  },
  {
   "cell_type": "code",
   "execution_count": 24,
   "metadata": {},
   "outputs": [],
   "source": [
    "def apply_regex_vendor(regex,name,vendor_list):\n",
    "    x = regex.search(name)\n",
    "    if (x != None):\n",
    "        vendor_list.append(x.string)"
   ]
  },
  {
   "cell_type": "code",
   "execution_count": 25,
   "metadata": {},
   "outputs": [],
   "source": [
    "regex_grainger = re.compile(r\"WW GRAINGER\")\n",
    "vendor_WW_GRAINGER = list()\n",
    "Vendor_unique_values.apply(lambda name: apply_regex_vendor(regex_grainger,name,vendor_WW_GRAINGER));"
   ]
  },
  {
   "cell_type": "code",
   "execution_count": 26,
   "metadata": {},
   "outputs": [
    {
     "name": "stdout",
     "output_type": "stream",
     "text": [
      "['WW GRAINGER', 'Claim ADJ/WW GRAINGER']\n"
     ]
    }
   ],
   "source": [
    "print(vendor_WW_GRAINGER)"
   ]
  },
  {
   "cell_type": "markdown",
   "metadata": {},
   "source": [
    "Indeed, as we expected, we get one more vendor to look at. So we get the result:"
   ]
  },
  {
   "cell_type": "code",
   "execution_count": 27,
   "metadata": {},
   "outputs": [
    {
     "name": "stdout",
     "output_type": "stream",
     "text": [
      "The total amount spent at WW GRAINGER is 5360849.3\n"
     ]
    }
   ],
   "source": [
    "print('The total amount spent at WW GRAINGER is {}'.format(df[df['Vendor'].isin(vendor_WW_GRAINGER)]['Amount'].sum()))"
   ]
  },
  {
   "cell_type": "markdown",
   "metadata": {},
   "source": [
    "**Q3: How much was spent at WM SUPERCENTER? **"
   ]
  },
  {
   "cell_type": "markdown",
   "metadata": {},
   "source": [
    "For the vendor 'WM SUPERCENTER' this is then analogoue."
   ]
  },
  {
   "cell_type": "code",
   "execution_count": 28,
   "metadata": {},
   "outputs": [],
   "source": [
    "regex_supercenter = re.compile(r\"WM SUPERCENTER\")\n",
    "vendor_WM_SUPERCENTER = list()\n",
    "Vendor_unique_values.apply(lambda name: apply_regex_vendor(regex_supercenter,name,vendor_WM_SUPERCENTER));"
   ]
  },
  {
   "cell_type": "code",
   "execution_count": 29,
   "metadata": {},
   "outputs": [
    {
     "name": "stdout",
     "output_type": "stream",
     "text": [
      "['WM SUPERCENTER', 'WM SUPERCENTER #121', 'WM SUPERCENTER #38', 'WM SUPERCENTER #479', 'WM SUPERCENTER #41']\n"
     ]
    }
   ],
   "source": [
    "print(vendor_WM_SUPERCENTER[:5])"
   ]
  },
  {
   "cell_type": "markdown",
   "metadata": {},
   "source": [
    "Indeed we also have here more than vendor corresponding to WM SUPERCENTER."
   ]
  },
  {
   "cell_type": "code",
   "execution_count": 30,
   "metadata": {},
   "outputs": [
    {
     "name": "stdout",
     "output_type": "stream",
     "text": [
      "The total amount spent at WM SUPERCENTER is 157457.46\n"
     ]
    }
   ],
   "source": [
    "print('The total amount spent at WM SUPERCENTER is {}'.format(df[df['Vendor'].isin(vendor_WM_SUPERCENTER)]['Amount'].sum()))"
   ]
  },
  {
   "cell_type": "markdown",
   "metadata": {},
   "source": [
    "**Q4: What is the standard deviation of the total monthly spending in the dataset? **"
   ]
  },
  {
   "cell_type": "code",
   "execution_count": 31,
   "metadata": {},
   "outputs": [
    {
     "name": "stdout",
     "output_type": "stream",
     "text": [
      "The standard deviation of the total monthly spending is 2076717.1945410317\n"
     ]
    }
   ],
   "source": [
    "print('The standard deviation of the total monthly spending is {}'.format(df.groupby('Month')['Amount'].sum().std()))"
   ]
  }
 ],
 "metadata": {
  "kernelspec": {
   "display_name": "Python 3",
   "language": "python",
   "name": "python3"
  },
  "language_info": {
   "codemirror_mode": {
    "name": "ipython",
    "version": 3
   },
   "file_extension": ".py",
   "mimetype": "text/x-python",
   "name": "python",
   "nbconvert_exporter": "python",
   "pygments_lexer": "ipython3",
   "version": "3.7.3"
  }
 },
 "nbformat": 4,
 "nbformat_minor": 2
}
